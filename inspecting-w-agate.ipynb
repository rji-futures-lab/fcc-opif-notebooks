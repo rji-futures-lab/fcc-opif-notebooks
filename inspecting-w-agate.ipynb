{
  "cells": [
    {
      "cell_type": "markdown",
      "source": [
        "# Inspecting FCC Political File Data (with [`agate`](https://agate.readthedocs.io/en/1.6.1/))"
      ],
      "metadata": {}
    },
    {
      "cell_type": "code",
      "source": [
        "import agate\n",
        "import re"
      ],
      "outputs": [],
      "execution_count": 1,
      "metadata": {}
    },
    {
      "cell_type": "code",
      "source": [
        "fcc_files = agate.Table.from_csv('fcc_opif.facilityfile.csv')"
      ],
      "outputs": [],
      "execution_count": 2,
      "metadata": {}
    },
    {
      "cell_type": "markdown",
      "source": [
        "## General filters\n",
        "\n",
        "We need to all of these Political Files into to separate piles:\n",
        "\n",
        "1. Agreements\n",
        "2. Contracts\n",
        "\n",
        "Ideally, we would be able to derive rules for each of these filters that would apply across all of the facilities.\n",
        "\nSo far, our best guess is to rely on the folder path and file name."
      ],
      "metadata": {}
    },
    {
      "cell_type": "code",
      "source": [
        "def is_agreement(row):\n",
        "    contains_agreement = (\n",
        "        'agreement' in row['folder'].lower() or \n",
        "        'agreement' in row['file_name'].lower()\n",
        "    )\n",
        "    contains_nab = (\n",
        "        'nab' in row['folder'].lower() or\n",
        "        'nab' in row['file_name'].lower() or\n",
        "        'n a b' in row['file_name'].lower()\n",
        "    )\n",
        "    return contains_agreement or contains_nab"
      ],
      "outputs": [],
      "execution_count": 3,
      "metadata": {}
    },
    {
      "cell_type": "code",
      "source": [
        "def is_contract(row):\n",
        "    order_in_folder_name = 'order' in row['folder'].lower()\n",
        "    invoice_in_folder_name = 'invoice' in row['folder'].lower()\n",
        "    # file_name contains a number matching the pattern #####--#    \n",
        "    number_w_dashes_pattern = re.match(r'(.+)?\\d{5}--\\d+', row['file_name'])\n",
        "    # file_name contains a number matching the pattern ##### (#)    \n",
        "    number_w_paren_pattern = re.match(r'(.+)?\\d{5}--\\(\\d+\\)', row['file_name'])\n",
        "    return (\n",
        "        order_in_folder_name\n",
        "        or invoice_in_folder_name\n",
        "        or number_w_dashes_pattern\n",
        "        or number_w_paren_pattern\n",
        "    ) and not is_agreement(row)"
      ],
      "outputs": [],
      "execution_count": 4,
      "metadata": {}
    },
    {
      "cell_type": "markdown",
      "source": [
        "## KOMU's Political Files\n",
        "\nLet's identify the different kinds of files KOMU has been uploading into the Political Files parent folder."
      ],
      "metadata": {}
    },
    {
      "cell_type": "code",
      "source": [
        "komu_files = fcc_files.where(lambda row: row['folder__entity'] == 'KOMU-TV')"
      ],
      "outputs": [],
      "execution_count": 5,
      "metadata": {}
    },
    {
      "cell_type": "code",
      "source": [
        "len(komu_files)"
      ],
      "outputs": [
        {
          "output_type": "execute_result",
          "execution_count": 6,
          "data": {
            "text/plain": [
              "748"
            ]
          },
          "metadata": {}
        }
      ],
      "execution_count": 6,
      "metadata": {}
    },
    {
      "cell_type": "markdown",
      "source": [
        "### Agreement Forms \n",
        "\n",
        "First, there are agreement forms for political advertisements signed by both the facility and represenstatives of the political campaigns. The agreement could be with candidate campaign, such as [this one](http://fcc-opif.s3.amazonaws.com/fcc_files/KOMU-TV/Political%20Files/2016/State/PARSON%20FOR%20LT%20GOVERNOR%20OF%20MISSOURI/NAB_FORM.pdf) on behalf of Governor Mike Parson, or non-candidate issue campaign, such as [this one](http://fcc-opif.s3.amazonaws.com/fcc_files/KOMU-TV/Political%20Files/2014/Non-Candidate%20Issue%20Ads/PROTECT%20THE%20HARVEST-MO%20PAC/NAB_Protect_The_Harvest_PAC.pdf) on behalf of Protect the Harvest PAC. \n",
        "\nThese forms are prescribed by the There are National Association of Broadcaster Forms. As such, it appears that KOMU's naming format for these files a couple of variations on the string `NAB`."
      ],
      "metadata": {}
    },
    {
      "cell_type": "code",
      "source": [
        "komu_agreements = komu_files.where(lambda row: is_agreement(row))"
      ],
      "outputs": [],
      "execution_count": 7,
      "metadata": {}
    },
    {
      "cell_type": "code",
      "source": [
        "len(komu_agreements)"
      ],
      "outputs": [
        {
          "output_type": "execute_result",
          "execution_count": 8,
          "data": {
            "text/plain": [
              "141"
            ]
          },
          "metadata": {}
        }
      ],
      "execution_count": 8,
      "metadata": {}
    },
    {
      "cell_type": "markdown",
      "source": [
        "### Contracts\n",
        "\nNext, there are contracts (aka, order forms) that specify the amount of paid by the advertiser for each ad, as well as the total for all the ads covered by the contract. [Here](http://fcc-opif.s3.amazonaws.com/fcc_files/KOMU-TV/Political%20Files/2016/State/PARSON%20FOR%20LT%20GOVERNOR%20OF%20MISSOURI/39109--1.pdf) is an example of a contract between KOMU and Governor Mike Parsons for $1,096.50 worth of ads that ran of July of 2016."
      ],
      "metadata": {}
    },
    {
      "cell_type": "code",
      "source": [
        "def is_komu_contract(row):\n",
        "    return re.match(r'(.+)?\\d{5}(--\\d+)?', row['file_name'])"
      ],
      "outputs": [],
      "execution_count": 9,
      "metadata": {}
    },
    {
      "cell_type": "code",
      "source": [
        "komu_contracts = komu_files.where(lambda row: is_contract(row))"
      ],
      "outputs": [],
      "execution_count": 10,
      "metadata": {}
    },
    {
      "cell_type": "code",
      "source": [
        "len(komu_contracts)"
      ],
      "outputs": [
        {
          "output_type": "execute_result",
          "execution_count": 11,
          "data": {
            "text/plain": [
              "599"
            ]
          },
          "metadata": {}
        }
      ],
      "execution_count": 11,
      "metadata": {}
    },
    {
      "cell_type": "markdown",
      "source": [
        "### Others\n",
        "\nThere are handful of files left over."
      ],
      "metadata": {}
    },
    {
      "cell_type": "code",
      "source": [
        "len(komu_files) - (len(komu_agreements) + len(komu_contracts))"
      ],
      "outputs": [
        {
          "output_type": "execute_result",
          "execution_count": 12,
          "data": {
            "text/plain": [
              "8"
            ]
          },
          "metadata": {}
        }
      ],
      "execution_count": 12,
      "metadata": {}
    },
    {
      "cell_type": "code",
      "source": [
        "other_komu_files = komu_files.where(\n",
        "    lambda row: not is_agreement(row) and not is_contract(row)\n",
        ")"
      ],
      "outputs": [],
      "execution_count": 13,
      "metadata": {}
    },
    {
      "cell_type": "markdown",
      "source": [
        "Here is what they look like."
      ],
      "metadata": {}
    },
    {
      "cell_type": "code",
      "source": [
        "other_komu_files \\\n",
        "    .select(['file_name']) \\\n",
        "    .print_table(max_rows=None, max_column_width=None)"
      ],
      "outputs": [
        {
          "output_type": "stream",
          "name": "stdout",
          "text": [
            "| file_name                                           |\n",
            "| --------------------------------------------------- |\n",
            "| 38276                                               |\n",
            "| Hillary Clinton Saturday Night Live July 23 2016    |\n",
            "| Donald Trump Saturday Night Live November 7 2015    |\n",
            "| MISSOURI FARMERS CARE 7-28-8-5                      |\n",
            "| Hillary Clinton Saturday Night Live October 24 2015 |\n",
            "| Hillary Clinton Saturday Night Live October 4 2015  |\n",
            "| Bernie Sanders Saturday Night Live February 6 2016  |\n",
            "| Bernie Sanders Saturday Night Live June 11 2016     |\n"
          ]
        }
      ],
      "execution_count": 14,
      "metadata": {
        "scrolled": true
      }
    },
    {
      "cell_type": "code",
      "source": [
        "other_komu_files \\\n",
        "    .select(['folder']) \\\n",
        "    .print_table(max_rows=None, max_column_width=None)"
      ],
      "outputs": [
        {
          "output_type": "stream",
          "name": "stdout",
          "text": [
            "| folder                                                             |\n",
            "| ------------------------------------------------------------------ |\n",
            "| Political Files/2016/Federal/President/HILLARY FOR AMERICA         |\n",
            "| Political Files/2016/Federal/President/HILLARY FOR AMERICA         |\n",
            "| Political Files/2015/Federal/President/Donald Trump                |\n",
            "| Political Files/2014/Non-Candidate Issue Ads/Missouri Farmers Care |\n",
            "| Political Files/2015/Federal/President/Hillary Clinton             |\n",
            "| Political Files/2015/Federal/President/Hillary Clinton             |\n",
            "| Political Files/2016/Federal/President/Bernie Sanders              |\n",
            "| Political Files/2016/Federal/President/Bernie Sanders              |\n"
          ]
        }
      ],
      "execution_count": 15,
      "metadata": {}
    },
    {
      "cell_type": "markdown",
      "source": [
        "The \"MISSOURI FARMERS CARE 7-28-8-5\" is actually a [non-candidate issue ad contract](http://fcc-opif.s3.amazonaws.com/fcc_files/KOMU-TV/Political%20Files/2014/Non-Candidate%20Issue%20Ads/Missouri%20Farmers%20Care/MISSOURI_FARMERS_CARE_7-28-8-5.pdf). For some reason they threw in some extra dashes when they named this file.\n",
        "\nThe remaining files are all notices of free time provided by facilities to political candidates, such as the time [Donald Trump appeared on Saturday Night Live](http://fcc-opif.s3.amazonaws.com/fcc_files/KOMU-TV/Political%20Files/2015/Federal/President/Donald%20Trump/Donald_Trump_Saturday_Night_Live_November_7_2015.pdf) in Nov 2015. These notices are required by [Section 73.1943 (paragraph b)](https://www.law.cornell.edu/cfr/text/47/73.1943) of Federal Regulations. "
      ],
      "metadata": {}
    },
    {
      "cell_type": "markdown",
      "source": [
        "## KMIZ's Political Files\n",
        "\nNow let's see if we can sort KMIZ's files into the same piles and/or identify new piles."
      ],
      "metadata": {}
    },
    {
      "cell_type": "code",
      "source": [
        "kmiz_files = fcc_files.where(lambda row: row['folder__entity'] == 'KMIZ')"
      ],
      "outputs": [],
      "execution_count": 16,
      "metadata": {}
    },
    {
      "cell_type": "code",
      "source": [
        "len(kmiz_files)"
      ],
      "outputs": [
        {
          "output_type": "execute_result",
          "execution_count": 17,
          "data": {
            "text/plain": [
              "1644"
            ]
          },
          "metadata": {}
        }
      ],
      "execution_count": 17,
      "metadata": {}
    },
    {
      "cell_type": "markdown",
      "source": [
        "### Agreement Forms"
      ],
      "metadata": {}
    },
    {
      "cell_type": "code",
      "source": [
        "kmiz_agreements = kmiz_files.where(lambda row: is_agreement(row))"
      ],
      "outputs": [],
      "execution_count": 18,
      "metadata": {}
    },
    {
      "cell_type": "code",
      "source": [
        "len(kmiz_agreements)"
      ],
      "outputs": [
        {
          "output_type": "execute_result",
          "execution_count": 19,
          "data": {
            "text/plain": [
              "123"
            ]
          },
          "metadata": {}
        }
      ],
      "execution_count": 19,
      "metadata": {}
    },
    {
      "cell_type": "markdown",
      "source": [
        "### Contracts"
      ],
      "metadata": {}
    },
    {
      "cell_type": "code",
      "source": [
        "kmiz_contracts = kmiz_files.where(lambda row: is_contract(row))"
      ],
      "outputs": [],
      "execution_count": 20,
      "metadata": {}
    },
    {
      "cell_type": "code",
      "source": [
        "len(kmiz_contracts)"
      ],
      "outputs": [
        {
          "output_type": "execute_result",
          "execution_count": 21,
          "data": {
            "text/plain": [
              "1519"
            ]
          },
          "metadata": {}
        }
      ],
      "execution_count": 21,
      "metadata": {}
    },
    {
      "cell_type": "markdown",
      "source": [
        "### Others"
      ],
      "metadata": {}
    },
    {
      "cell_type": "code",
      "source": [
        "len(kmiz_files) - (len(kmiz_agreements) + len(kmiz_contracts))"
      ],
      "outputs": [
        {
          "output_type": "execute_result",
          "execution_count": 22,
          "data": {
            "text/plain": [
              "2"
            ]
          },
          "metadata": {}
        }
      ],
      "execution_count": 22,
      "metadata": {}
    },
    {
      "cell_type": "code",
      "source": [
        "other_kmiz_files = kmiz_files.where(\n",
        "    lambda row: not is_contract(row) and not is_agreement(row)\n",
        ")"
      ],
      "outputs": [],
      "execution_count": 23,
      "metadata": {}
    },
    {
      "cell_type": "code",
      "source": [
        "len(other_kmiz_files)"
      ],
      "outputs": [
        {
          "output_type": "execute_result",
          "execution_count": 24,
          "data": {
            "text/plain": [
              "2"
            ]
          },
          "metadata": {}
        }
      ],
      "execution_count": 24,
      "metadata": {}
    },
    {
      "cell_type": "markdown",
      "source": [
        "The first remaining file (located at [Political Files/2016/Terms and Disclosures/Disclosure_Statement.pdf](http://fcc-opif.s3.amazonaws.com/fcc_files/KMIZ/Political%20Files/2016/Terms%20and%20Disclosures/Disclosure_Statement.pdf))is a general statement about political advertising on KMIZ and affiliated channels, somewhat like a terms and conditions.\n",
        "\nThe second is [Political Files/2015/Non-Candidate Issue Ads/Missouri Propane/Non-Candidate Inquiry Form.pdf](http://fcc-opif.s3.amazonaws.com/fcc_files/KMIZ/Political%20Files/2015/Non-Candidate%20Issue%20Ads/Missouri%20Propane/Non-Candidate%20Inquiry%20Form/Missouri_Propane_Inquiry_Form.pdf) which sorta looks like and agreement form, but different."
      ],
      "metadata": {}
    },
    {
      "cell_type": "markdown",
      "source": [
        "## How well do these filters apply to all the other facilities?\n",
        "\n",
        "In order to test this, we need the following counts for each facility:\n",
        "\n",
        "- How many meet our criteria for an agreement (there should be many)\n",
        "- How many meet our criteria for a contract (there should be even more)\n",
        "- How many meet the criteria for being both (there should be none)\n",
        "- How many don't meet the criteria for either (there should only be a handful)"
      ],
      "metadata": {}
    },
    {
      "cell_type": "code",
      "source": [
        "by_facility = fcc_files.group_by('folder__entity').compute([\n",
        "    ('is_agreement', agate.Formula(agate.Boolean(), lambda row: is_agreement(row))),\n",
        "    ('is_contract', agate.Formula(agate.Boolean(), lambda row: is_contract(row))),\n",
        "    ('is_both', agate.Formula(agate.Boolean(), lambda row: is_agreement(row) and is_contract(row))),\n",
        "    ('is_neither', agate.Formula(agate.Boolean(), lambda row: not is_agreement(row) and not is_contract(row)))\n",
        "]).aggregate([\n",
        "    ('count_agreements', agate.Count(column_name='is_agreement', value=True)),\n",
        "    ('count_contracts', agate.Count(column_name='is_contract', value=True)),\n",
        "    ('count_both', agate.Count(column_name='is_both', value=True)),\n",
        "    ('count_neither', agate.Count(column_name='is_neither', value=True)),\n",
        "])"
      ],
      "outputs": [],
      "execution_count": 38,
      "metadata": {
        "collapsed": false,
        "outputHidden": false,
        "inputHidden": false
      }
    },
    {
      "cell_type": "code",
      "source": [
        "by_facility.order_by('count_neither', reverse=True).print_table(max_rows=None)"
      ],
      "outputs": [
        {
          "output_type": "stream",
          "name": "stdout",
          "text": [
            "| folder__entity | count_agreements | count_contracts | count_both | count_neither |\n",
            "| -------------- | ---------------- | --------------- | ---------- | ------------- |\n",
            "| KRCG           |               78 |             264 |          0 |           814 |\n",
            "| KRES           |                1 |               0 |          0 |           226 |\n",
            "| KSSZ           |               28 |               3 |          0 |           202 |\n",
            "| KWOS           |               28 |               6 |          0 |           186 |\n",
            "| KCLR-FM        |               26 |               0 |          0 |           183 |\n",
            "| KWIX           |                1 |               0 |          0 |           164 |\n",
            "| KWRE           |                0 |               0 |          0 |           149 |\n",
            "| KCMQ           |               19 |               0 |          0 |            91 |\n",
            "| KFRU           |                0 |               0 |          0 |            73 |\n",
            "| KATI           |               12 |               0 |          0 |            73 |\n",
            "| KPLA           |                0 |               0 |          0 |            48 |\n",
            "| KFAL           |                6 |               0 |          0 |            48 |\n",
            "| KTXY           |                6 |               3 |          0 |            46 |\n",
            "| KRMS           |               13 |               0 |          0 |            43 |\n",
            "| KSIS           |                0 |               0 |          0 |            37 |\n",
            "| KWWR           |                0 |               0 |          0 |            33 |\n",
            "| KZZT           |                0 |               0 |          0 |            30 |\n",
            "| KLIK           |                0 |               0 |          0 |            28 |\n",
            "| KMMO           |                0 |               0 |          0 |            21 |\n",
            "| KLTI           |                0 |               0 |          0 |            16 |\n",
            "| KBXR           |                0 |               0 |          0 |            15 |\n",
            "| KWRT           |                0 |               0 |          0 |            15 |\n",
            "| KSDL           |                0 |               0 |          0 |            14 |\n",
            "| KBBM           |                0 |               0 |          0 |            12 |\n",
            "| KXEO           |                0 |               0 |          0 |            10 |\n",
            "| KWJK           |                0 |               0 |          0 |            10 |\n",
            "| KOQL           |                0 |               0 |          0 |             8 |\n",
            "| KOMU-TV        |              141 |             599 |          0 |             8 |\n",
            "| KTKS           |                0 |               0 |          0 |             7 |\n",
            "| KDRO           |                0 |               0 |          0 |             5 |\n",
            "| KTGR-FM        |                1 |               0 |          0 |             2 |\n",
            "| KMIZ           |              123 |           1,519 |          0 |             2 |\n",
            "| KTGR           |                1 |               0 |          0 |             2 |\n",
            "| KPOW-FM        |                0 |               0 |          0 |             2 |\n",
            "| KMOS-TV        |                0 |               0 |          0 |             1 |\n",
            "| KZJF           |                0 |               0 |          0 |             1 |\n",
            "| KNLG           |                0 |               0 |          0 |             1 |\n"
          ]
        }
      ],
      "execution_count": 43,
      "metadata": {
        "collapsed": false,
        "outputHidden": false,
        "inputHidden": false
      }
    },
    {
      "cell_type": "code",
      "source": [],
      "outputs": [],
      "execution_count": null,
      "metadata": {
        "collapsed": false,
        "outputHidden": false,
        "inputHidden": false
      }
    }
  ],
  "metadata": {
    "kernelspec": {
      "name": "python3",
      "language": "python",
      "display_name": "Python 3"
    },
    "language_info": {
      "name": "python",
      "version": "3.7.4",
      "mimetype": "text/x-python",
      "codemirror_mode": {
        "name": "ipython",
        "version": 3
      },
      "pygments_lexer": "ipython3",
      "nbconvert_exporter": "python",
      "file_extension": ".py"
    },
    "kernel_info": {
      "name": "python3"
    }
  },
  "nbformat": 4,
  "nbformat_minor": 2
}