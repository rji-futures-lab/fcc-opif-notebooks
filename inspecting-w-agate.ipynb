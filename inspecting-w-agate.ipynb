{
 "cells": [
  {
   "cell_type": "markdown",
   "metadata": {},
   "source": [
    "# Inspecting FCC Political File Data (with `agate`)"
   ]
  },
  {
   "cell_type": "code",
   "execution_count": 22,
   "metadata": {},
   "outputs": [],
   "source": [
    "import agate\n",
    "import re"
   ]
  },
  {
   "cell_type": "code",
   "execution_count": 24,
   "metadata": {},
   "outputs": [],
   "source": [
    "fcc_files = agate.Table.from_csv('fcc_opif.facilityfile.csv')"
   ]
  },
  {
   "cell_type": "markdown",
   "metadata": {},
   "source": [
    "## KOMU's Political Files\n",
    "\n",
    "Let's identify the different kinds of files KOMU has been uploading into the Political Files parent folder."
   ]
  },
  {
   "cell_type": "code",
   "execution_count": 25,
   "metadata": {},
   "outputs": [],
   "source": [
    "komu_files = fcc_files.where(lambda row: row['folder__entity'] == 'KOMU-TV')"
   ]
  },
  {
   "cell_type": "code",
   "execution_count": 26,
   "metadata": {},
   "outputs": [
    {
     "data": {
      "text/plain": [
       "748"
      ]
     },
     "execution_count": 26,
     "metadata": {},
     "output_type": "execute_result"
    }
   ],
   "source": [
    "len(komu_files)"
   ]
  },
  {
   "cell_type": "markdown",
   "metadata": {},
   "source": [
    "### Agreement Forms \n",
    "\n",
    "First, there are agreement forms for political advertisements signed by both the facility and represenstatives of the political campaigns. The agreement could be with candidate campaign, such as [this one](http://fcc-opif.s3.amazonaws.com/fcc_files/KOMU-TV/Political%20Files/2016/State/PARSON%20FOR%20LT%20GOVERNOR%20OF%20MISSOURI/NAB_FORM.pdf) on behalf of Governor Mike Parson, or non-candidate issue campaign, such as [this one](http://fcc-opif.s3.amazonaws.com/fcc_files/KOMU-TV/Political%20Files/2014/Non-Candidate%20Issue%20Ads/PROTECT%20THE%20HARVEST-MO%20PAC/NAB_Protect_The_Harvest_PAC.pdf) on behalf of Protect the Harvest PAC. \n",
    "\n",
    "These forms are prescribed by the There are National Association of Broadcaster Forms. As such, it appears that KOMU's naming format for these files a couple of variations on the string `NAB`."
   ]
  },
  {
   "cell_type": "code",
   "execution_count": 50,
   "metadata": {},
   "outputs": [],
   "source": [
    "def nab_filter(row):\n",
    "    return 'nab' in row['file_name'].lower() or 'n a b' in row['file_name'].lower()"
   ]
  },
  {
   "cell_type": "code",
   "execution_count": 52,
   "metadata": {},
   "outputs": [],
   "source": [
    "komu_nab_forms = komu_files \\\n",
    "    .where(lambda row: nab_filter(row))"
   ]
  },
  {
   "cell_type": "code",
   "execution_count": 53,
   "metadata": {},
   "outputs": [
    {
     "data": {
      "text/plain": [
       "141"
      ]
     },
     "execution_count": 53,
     "metadata": {},
     "output_type": "execute_result"
    }
   ],
   "source": [
    "len(komu_nab_forms)"
   ]
  },
  {
   "cell_type": "markdown",
   "metadata": {},
   "source": [
    "### Contracts\n",
    "\n",
    "Next, there are contracts (aka, order forms) that specify the amount of paid by the advertiser for each ad, as well as the total for all the ads covered by the contract. [Here](http://fcc-opif.s3.amazonaws.com/fcc_files/KOMU-TV/Political%20Files/2016/State/PARSON%20FOR%20LT%20GOVERNOR%20OF%20MISSOURI/39109--1.pdf) is an example of a contract between KOMU and Governor Mike Parsons for $1,096.50 worth of ads that ran of July of 2016."
   ]
  },
  {
   "cell_type": "code",
   "execution_count": 55,
   "metadata": {},
   "outputs": [],
   "source": [
    "def order_form_filter(row):\n",
    "    return re.match(r'(.+)?\\d{5}(--\\d+)?', row['file_name'])"
   ]
  },
  {
   "cell_type": "code",
   "execution_count": 56,
   "metadata": {},
   "outputs": [],
   "source": [
    "komu_order_forms = komu_files \\\n",
    "    .where(lambda row: order_form_filter(row))"
   ]
  },
  {
   "cell_type": "code",
   "execution_count": 57,
   "metadata": {},
   "outputs": [
    {
     "data": {
      "text/plain": [
       "600"
      ]
     },
     "execution_count": 57,
     "metadata": {},
     "output_type": "execute_result"
    }
   ],
   "source": [
    "len(komu_order_forms)"
   ]
  },
  {
   "cell_type": "markdown",
   "metadata": {},
   "source": [
    "### Others\n",
    "\n",
    "There are handful of files left over."
   ]
  },
  {
   "cell_type": "code",
   "execution_count": 58,
   "metadata": {},
   "outputs": [
    {
     "data": {
      "text/plain": [
       "7"
      ]
     },
     "execution_count": 58,
     "metadata": {},
     "output_type": "execute_result"
    }
   ],
   "source": [
    "len(komu_files) - (len(komu_nab_forms) + len(komu_order_forms))"
   ]
  },
  {
   "cell_type": "code",
   "execution_count": 59,
   "metadata": {},
   "outputs": [],
   "source": [
    "other = komu_files \\\n",
    "    .where(lambda row: not nab_filter(row)) \\\n",
    "    .where(lambda row: not order_form_filter(row))"
   ]
  },
  {
   "cell_type": "markdown",
   "metadata": {},
   "source": [
    "Here is what they look like."
   ]
  },
  {
   "cell_type": "code",
   "execution_count": 71,
   "metadata": {},
   "outputs": [
    {
     "name": "stdout",
     "output_type": "stream",
     "text": [
      "| file_name                                           | file_id                              |\n",
      "| --------------------------------------------------- | ------------------------------------ |\n",
      "| Hillary Clinton Saturday Night Live July 23 2016    | f6d1c6c6-da97-e682-a110-da46e901086b |\n",
      "| Donald Trump Saturday Night Live November 7 2015    | f22365a4-e3c6-5e71-49c3-9ba302289a11 |\n",
      "| MISSOURI FARMERS CARE 7-28-8-5                      | fdafc180-5401-2488-1410-7cee726fde5e |\n",
      "| Hillary Clinton Saturday Night Live October 24 2015 | 5a2e8343-76d1-e6f4-d648-2e9fd296a964 |\n",
      "| Hillary Clinton Saturday Night Live October 4 2015  | 6653f862-c85f-6fe1-d52e-37c15735ca61 |\n",
      "| Bernie Sanders Saturday Night Live February 6 2016  | d37a49b4-389d-7363-42f2-009330982b0e |\n",
      "| Bernie Sanders Saturday Night Live June 11 2016     | 5dd1450d-7461-ff57-e505-17f49933ac9a |\n"
     ]
    }
   ],
   "source": [
    "other.select(['file_name', 'file_id']).print_table(max_rows=None, max_column_width=None)"
   ]
  },
  {
   "cell_type": "markdown",
   "metadata": {},
   "source": [
    "The \"MISSOURI FARMERS CARE 7-28-8-5\" is actually a [non-candidate issue ad contract](http://fcc-opif.s3.amazonaws.com/fcc_files/KOMU-TV/Political%20Files/2014/Non-Candidate%20Issue%20Ads/Missouri%20Farmers%20Care/MISSOURI_FARMERS_CARE_7-28-8-5.pdf). For some reason they threw in some extra dashes when they named this file.\n",
    "\n",
    "The remaining files are all notices of free time provided by facilities to political candidates, such as the time [Donald Trump appeared on Saturday Night Live](http://fcc-opif.s3.amazonaws.com/fcc_files/KOMU-TV/Political%20Files/2015/Federal/President/Donald%20Trump/Donald_Trump_Saturday_Night_Live_November_7_2015.pdf) in Nov 2015. These notices are required by [Section 73.1943 (paragraph b)](https://www.law.cornell.edu/cfr/text/47/73.1943) of Federal Regulations. "
   ]
  },
  {
   "cell_type": "code",
   "execution_count": null,
   "metadata": {},
   "outputs": [],
   "source": []
  }
 ],
 "metadata": {
  "kernelspec": {
   "display_name": "Python 3",
   "language": "python",
   "name": "python3"
  },
  "language_info": {
   "codemirror_mode": {
    "name": "ipython",
    "version": 3
   },
   "file_extension": ".py",
   "mimetype": "text/x-python",
   "name": "python",
   "nbconvert_exporter": "python",
   "pygments_lexer": "ipython3",
   "version": "3.7.4"
  }
 },
 "nbformat": 4,
 "nbformat_minor": 2
}
