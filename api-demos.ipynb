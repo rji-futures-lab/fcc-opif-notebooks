{
 "cells": [
  {
   "cell_type": "markdown",
   "metadata": {},
   "source": [
    "# Inspecting KOMU's Files\n",
    "\n",
    "This notebook is includes my initial attempts at using the FCC's [Office of Public Inspection Files APIs](https://publicfiles.fcc.gov/developer/) (OPIF). My goal is to figure out how to access political files for the 2015 election cycle.\n",
    "\n",
    "These APIs are open to the public (no authentication required), and are found under a common url path."
   ]
  },
  {
   "cell_type": "code",
   "execution_count": 1,
   "metadata": {},
   "outputs": [],
   "source": [
    "api_url = \"https://publicfiles.fcc.gov/api/\""
   ]
  },
  {
   "cell_type": "markdown",
   "metadata": {},
   "source": [
    "Responses can be formatted in either json or xml. I'll use json."
   ]
  },
  {
   "cell_type": "markdown",
   "metadata": {},
   "source": [
    "## Dependencies\n"
   ]
  },
  {
   "cell_type": "code",
   "execution_count": 2,
   "metadata": {},
   "outputs": [],
   "source": [
    "import requests\n",
    "import requests_cache\n",
    "from time import sleep"
   ]
  },
  {
   "cell_type": "markdown",
   "metadata": {},
   "source": [
    "## Set up caching"
   ]
  },
  {
   "cell_type": "markdown",
   "metadata": {},
   "source": [
    "In order to limit my requests to the FCC's servers, I'll cache any responses I receive. We'll use [request-cache's](https://requests-cache.readthedocs.io/en/latest/) default storage backend, which is a local SQLite db, and set it to expire every 12 hours."
   ]
  },
  {
   "cell_type": "code",
   "execution_count": 3,
   "metadata": {},
   "outputs": [],
   "source": [
    "requests_cache.install_cache(expire_after=43200)"
   ]
  },
  {
   "cell_type": "markdown",
   "metadata": {},
   "source": [
    "## KOMU's Details\n",
    "\n",
    "For starters, I'm going to focus on KOMU-TV, which is located here at the University of Missouri.\n",
    "\n",
    "The OPIF Service Data API has a Facility Search endpoint. This endpoint accepts a single keyword parameter."
   ]
  },
  {
   "cell_type": "code",
   "execution_count": 4,
   "metadata": {},
   "outputs": [],
   "source": [
    "facility_search_endpoint = api_url + \"service/facility/search/{keyword}.json\""
   ]
  },
  {
   "cell_type": "code",
   "execution_count": 5,
   "metadata": {},
   "outputs": [],
   "source": [
    "r = requests.get(\n",
    "    facility_search_endpoint.format(keyword='komu')\n",
    ")"
   ]
  },
  {
   "cell_type": "markdown",
   "metadata": {},
   "source": [
    "The results we're looking for are a couple of layers down. They include both counts and lists of entity type's found."
   ]
  },
  {
   "cell_type": "code",
   "execution_count": 6,
   "metadata": {},
   "outputs": [
    {
     "data": {
      "text/plain": [
       "{'tvResultsCount': 1,\n",
       " 'fmResultsCount': 0,\n",
       " 'amResultsCount': 0,\n",
       " 'cableResultsCount': 0,\n",
       " 'cableZipCodeResultsCount': 0,\n",
       " 'sdarsResultsCount': 0,\n",
       " 'dbsResultsCount': 0,\n",
       " 'tvFacilityList': [{'id': '65583',\n",
       "   'callSign': 'KOMU-TV',\n",
       "   'service': 'Digital TV',\n",
       "   'rfChannel': '8',\n",
       "   'virtualChannel': '8',\n",
       "   'licenseExpirationDate': '02/01/2022',\n",
       "   'statusDate': '06/16/2009',\n",
       "   'status': 'LICENSED',\n",
       "   'communityCity': 'COLUMBIA',\n",
       "   'communityState': 'MO',\n",
       "   'facilityType': 'CDT',\n",
       "   'frequency': '180.0',\n",
       "   'activeInd': 'Y',\n",
       "   'scannedLetterIds': '',\n",
       "   'partyName': 'THE CURATORS OF THE UNIVERSITY OF MISSOURI',\n",
       "   'partyAddress1': '1105 CARRIE FRANCKE DRIVE',\n",
       "   'partyAddress2': '',\n",
       "   'partyCity': 'COLUMBIA',\n",
       "   'partyZip1': '65211',\n",
       "   'partyZip2': '',\n",
       "   'partyState': 'MO',\n",
       "   'partyPhone': '(573)882-5768',\n",
       "   'nielsenDma': 'COLUMBIA-JEFFERSON CITY',\n",
       "   'networkAfil': 'NBC',\n",
       "   'band': 'High V',\n",
       "   'authAppId': '1316807'}],\n",
       " 'fmFacilityList': [],\n",
       " 'amFacilityList': [],\n",
       " 'cableSystemsList': [],\n",
       " 'cableSystemsZipCodeList': [],\n",
       " 'sdarsFacilityList': [],\n",
       " 'dbsFacilityList': []}"
      ]
     },
     "execution_count": 6,
     "metadata": {},
     "output_type": "execute_result"
    }
   ],
   "source": [
    "r.json()['results']['globalSearchResults']"
   ]
  },
  {
   "cell_type": "code",
   "execution_count": 7,
   "metadata": {},
   "outputs": [],
   "source": [
    "komu = r.json()['results']['globalSearchResults']['tvFacilityList'][0]"
   ]
  },
  {
   "cell_type": "markdown",
   "metadata": {},
   "source": [
    "An important detail we'll need to hold onto is KOMU-TV's `entity_id`."
   ]
  },
  {
   "cell_type": "code",
   "execution_count": 8,
   "metadata": {},
   "outputs": [],
   "source": [
    "komu_id = komu['id']"
   ]
  },
  {
   "cell_type": "code",
   "execution_count": 9,
   "metadata": {},
   "outputs": [
    {
     "data": {
      "text/plain": [
       "'65583'"
      ]
     },
     "execution_count": 9,
     "metadata": {},
     "output_type": "execute_result"
    }
   ],
   "source": [
    "komu_id"
   ]
  },
  {
   "cell_type": "markdown",
   "metadata": {},
   "source": [
    "## KOMU's Folders"
   ]
  },
  {
   "cell_type": "markdown",
   "metadata": {},
   "source": [
    "Each facility has a set of folders that group together similar files. This is similar to the file directory structure you find on any computer's operating system. In order to interact with the public inspection files, the FCC provides a OPIF Manager API.\n",
    "\n",
    "We can get all the folders in KOMU-TV's root directory by calling the `parentFolders` endpoint with the `entityId` and `sourceService` parameters."
   ]
  },
  {
   "cell_type": "code",
   "execution_count": 10,
   "metadata": {},
   "outputs": [],
   "source": [
    "parent_folders_endpoint = api_url + 'manager/folder/parentFolders.json'"
   ]
  },
  {
   "cell_type": "code",
   "execution_count": 11,
   "metadata": {},
   "outputs": [],
   "source": [
    "payload = {'entityId': komu_id, 'sourceService': 'tv'}"
   ]
  },
  {
   "cell_type": "code",
   "execution_count": 12,
   "metadata": {},
   "outputs": [],
   "source": [
    "r = requests.get(parent_folders_endpoint, params=payload)"
   ]
  },
  {
   "cell_type": "markdown",
   "metadata": {},
   "source": [
    "Let's take a closer look at KOMU's folders."
   ]
  },
  {
   "cell_type": "code",
   "execution_count": 13,
   "metadata": {},
   "outputs": [
    {
     "name": "stdout",
     "output_type": "stream",
     "text": [
      "Applications and Related Materials\n",
      "5289ec26-db91-3a1d-5513-867712eacce5\n",
      "------------\n",
      "Basic Info\n",
      "d5d74fdb-4f3a-28b4-93e0-5ce82db90757\n",
      "------------\n",
      "Childrens TV Programming Reports\n",
      "1ce1d408-cf73-44c5-bd86-684d4f2b0758\n",
      "------------\n",
      "Contour Maps\n",
      "0dcd08f2-800e-84e9-be74-6da952e01f71\n",
      "------------\n",
      "Equal Employment Opportunity Records\n",
      "b3878ebc-d31b-0eef-11dc-4ebc339f3498\n",
      "------------\n",
      "FCC Authorizations\n",
      "03fd3934-5b1f-6511-1690-657cd398e253\n",
      "------------\n",
      "Ownership Reports\n",
      "41c80621-9a6c-279d-49c8-23beafd16ebe\n",
      "------------\n",
      "Political Files\n",
      "64651c6c-e5ae-a929-b58e-31be2ba0d26b\n",
      "------------\n"
     ]
    }
   ],
   "source": [
    "for f in r.json()['folders']:\n",
    "    print(f['folder_name'])\n",
    "    print(f['entity_folder_id'])\n",
    "    print('------------')"
   ]
  },
  {
   "cell_type": "markdown",
   "metadata": {},
   "source": [
    "We can also just go straight to getting the \"Political Files\" folder info by calling the `folder/path` endpoint."
   ]
  },
  {
   "cell_type": "code",
   "execution_count": 14,
   "metadata": {},
   "outputs": [],
   "source": [
    "folder_path_endpoint = api_url + 'manager/folder/path.json'"
   ]
  },
  {
   "cell_type": "code",
   "execution_count": 15,
   "metadata": {},
   "outputs": [],
   "source": [
    "payload = {\n",
    "    'folderPath': 'Political Files',\n",
    "    'entityId': komu_id,\n",
    "    'sourceService': 'tv'\n",
    "}"
   ]
  },
  {
   "cell_type": "code",
   "execution_count": 16,
   "metadata": {},
   "outputs": [],
   "source": [
    "r = requests.get(folder_path_endpoint, params=payload)"
   ]
  },
  {
   "cell_type": "code",
   "execution_count": 17,
   "metadata": {},
   "outputs": [
    {
     "data": {
      "text/plain": [
       "{'status': 'success',\n",
       " 'statusCode': 200,\n",
       " 'statusMessage': 'Folder found.',\n",
       " 'folder': [{'entity_folder_id': '64651c6c-e5ae-a929-b58e-31be2ba0d26b',\n",
       "   'entity_id': '65583',\n",
       "   'folder_name': 'Political Files',\n",
       "   'folder_path': 'Political Files',\n",
       "   'allow_rename_ind': 'N',\n",
       "   'allow_subfolder_ind': 'N',\n",
       "   'allow_upload_ind': 'N',\n",
       "   'allow_delete_ind': 'N',\n",
       "   'more_public_files_ind': 'N',\n",
       "   'parent_folder_id': None,\n",
       "   'file_count': None,\n",
       "   'create_ts': '2016-02-29T14:51:41-05:00',\n",
       "   'last_update_ts': '2016-02-29T14:51:41-05:00'}]}"
      ]
     },
     "execution_count": 17,
     "metadata": {},
     "output_type": "execute_result"
    }
   ],
   "source": [
    "r.json()"
   ]
  },
  {
   "cell_type": "markdown",
   "metadata": {},
   "source": [
    "Let's hold onto the id for the political folder."
   ]
  },
  {
   "cell_type": "code",
   "execution_count": 18,
   "metadata": {},
   "outputs": [],
   "source": [
    "komu_political_folder_id = r.json()['folder'][0]['entity_folder_id']"
   ]
  },
  {
   "cell_type": "code",
   "execution_count": 19,
   "metadata": {},
   "outputs": [
    {
     "data": {
      "text/plain": [
       "'64651c6c-e5ae-a929-b58e-31be2ba0d26b'"
      ]
     },
     "execution_count": 19,
     "metadata": {},
     "output_type": "execute_result"
    }
   ],
   "source": [
    "komu_political_folder_id"
   ]
  },
  {
   "cell_type": "markdown",
   "metadata": {},
   "source": [
    "## KOMU's Political Files\n",
    "\n",
    "We can get the contents of this folder using the `folder` endpoint, which requires both the `folderId` and the `entityId`."
   ]
  },
  {
   "cell_type": "code",
   "execution_count": 20,
   "metadata": {},
   "outputs": [],
   "source": [
    "folder_endpoint = api_url + 'manager/folder/id/{folderId}.json'"
   ]
  },
  {
   "cell_type": "code",
   "execution_count": 21,
   "metadata": {},
   "outputs": [],
   "source": [
    "payload = {'entityId': komu_id}"
   ]
  },
  {
   "cell_type": "code",
   "execution_count": 22,
   "metadata": {},
   "outputs": [],
   "source": [
    "r = requests.get(\n",
    "    folder_endpoint.format(folderId=komu_political_folder_id),\n",
    "    params=payload\n",
    ")"
   ]
  },
  {
   "cell_type": "markdown",
   "metadata": {},
   "source": [
    "Any folder has both subfolders:"
   ]
  },
  {
   "cell_type": "code",
   "execution_count": 23,
   "metadata": {},
   "outputs": [],
   "source": [
    "subfolders = r.json()['folder']['subfolders']"
   ]
  },
  {
   "cell_type": "markdown",
   "metadata": {},
   "source": [
    "And files:"
   ]
  },
  {
   "cell_type": "code",
   "execution_count": 24,
   "metadata": {},
   "outputs": [],
   "source": [
    "files = r.json()['folder']['files']"
   ]
  },
  {
   "cell_type": "markdown",
   "metadata": {},
   "source": [
    "Both of these are lists, which might be empty."
   ]
  },
  {
   "cell_type": "code",
   "execution_count": 25,
   "metadata": {},
   "outputs": [
    {
     "data": {
      "text/plain": [
       "9"
      ]
     },
     "execution_count": 25,
     "metadata": {},
     "output_type": "execute_result"
    }
   ],
   "source": [
    "len(subfolders)"
   ]
  },
  {
   "cell_type": "code",
   "execution_count": 26,
   "metadata": {
    "scrolled": true
   },
   "outputs": [
    {
     "data": {
      "text/plain": [
       "0"
      ]
     },
     "execution_count": 26,
     "metadata": {},
     "output_type": "execute_result"
    }
   ],
   "source": [
    "len(files)"
   ]
  },
  {
   "cell_type": "markdown",
   "metadata": {},
   "source": [
    "Let's take a closer look at these subfolders."
   ]
  },
  {
   "cell_type": "code",
   "execution_count": 27,
   "metadata": {},
   "outputs": [
    {
     "name": "stdout",
     "output_type": "stream",
     "text": [
      "Political Files/2012\n",
      "a53428b0-31a8-4e9c-2704-6c74d8d0298b\n",
      "file_count: 0\n",
      "-----------------------------------------------\n",
      "Political Files/2013\n",
      "351c1159-7157-4def-b654-633265f6b90f\n",
      "file_count: 0\n",
      "-----------------------------------------------\n",
      "Political Files/2014\n",
      "be0022c5-b604-2769-1fd2-adc62db7d660\n",
      "file_count: 83\n",
      "-----------------------------------------------\n",
      "Political Files/2015\n",
      "8529294f-b895-ca7a-31a4-b792d30c40c2\n",
      "file_count: 11\n",
      "-----------------------------------------------\n",
      "Political Files/2016\n",
      "00897497-f06a-b4b4-c1b4-df630e88a3d8\n",
      "file_count: 373\n",
      "-----------------------------------------------\n",
      "Political Files/2017\n",
      "55aaa1b7-7049-2ffd-85be-381bd27cd00b\n",
      "file_count: 30\n",
      "-----------------------------------------------\n",
      "Political Files/2018\n",
      "c52ea73c-7e18-d81b-8baa-fcd9f46fff7b\n",
      "file_count: 249\n",
      "-----------------------------------------------\n",
      "Political Files/2019\n",
      "b662c0a3-0dcb-cbc9-4e61-67144f7c5812\n",
      "file_count: 2\n",
      "-----------------------------------------------\n",
      "Political Files/2020\n",
      "9e5c8718-ef44-bcd8-cf28-b5422951db33\n",
      "file_count: 0\n",
      "-----------------------------------------------\n"
     ]
    }
   ],
   "source": [
    "for sf in subfolders:\n",
    "    print(sf['folder_path'])\n",
    "    print(sf['entity_folder_id'])\n",
    "    print('file_count: {file_count}'.format(**sf))\n",
    "    print('-----------------------------------------------')"
   ]
  },
  {
   "cell_type": "markdown",
   "metadata": {},
   "source": [
    "Now let's take a closer look at the contents of one of these folders: `Political Files/2016`."
   ]
  },
  {
   "cell_type": "code",
   "execution_count": 28,
   "metadata": {},
   "outputs": [],
   "source": [
    "r = requests.get(\n",
    "    folder_endpoint.format(folderId=\"00897497-f06a-b4b4-c1b4-df630e88a3d8\"),\n",
    "    params=payload\n",
    ")"
   ]
  },
  {
   "cell_type": "code",
   "execution_count": 29,
   "metadata": {},
   "outputs": [],
   "source": [
    "komu_2016_political_folder = r.json()['folder']"
   ]
  },
  {
   "cell_type": "markdown",
   "metadata": {},
   "source": [
    "Looks like it doesn't have any files."
   ]
  },
  {
   "cell_type": "code",
   "execution_count": 30,
   "metadata": {},
   "outputs": [
    {
     "data": {
      "text/plain": [
       "0"
      ]
     },
     "execution_count": 30,
     "metadata": {},
     "output_type": "execute_result"
    }
   ],
   "source": [
    "len(komu_2016_political_folder['files'])"
   ]
  },
  {
   "cell_type": "markdown",
   "metadata": {},
   "source": [
    "Just more subfolders."
   ]
  },
  {
   "cell_type": "code",
   "execution_count": 31,
   "metadata": {},
   "outputs": [
    {
     "data": {
      "text/plain": [
       "5"
      ]
     },
     "execution_count": 31,
     "metadata": {},
     "output_type": "execute_result"
    }
   ],
   "source": [
    "len(komu_2016_political_folder['subfolders'])"
   ]
  },
  {
   "cell_type": "code",
   "execution_count": 32,
   "metadata": {},
   "outputs": [
    {
     "name": "stdout",
     "output_type": "stream",
     "text": [
      "Political Files/2016/Federal\n",
      "e5ecf909-3252-147d-962d-1773e7344aa0\n",
      "file_count: 48\n",
      "-----------------------------------------------\n",
      "Political Files/2016/Local\n",
      "2f814da8-e1c6-e981-059f-c270ea4c2835\n",
      "file_count: 23\n",
      "-----------------------------------------------\n",
      "Political Files/2016/Non-Candidate Issue Ads\n",
      "52a3207f-661d-63e8-3289-3bac17b7ed50\n",
      "file_count: 120\n",
      "-----------------------------------------------\n",
      "Political Files/2016/State\n",
      "40d16c28-845b-9278-c3c4-5bf715f5a4f8\n",
      "file_count: 182\n",
      "-----------------------------------------------\n",
      "Political Files/2016/Terms and Disclosures\n",
      "919a0c82-c792-bef6-5285-640458ebc916\n",
      "file_count: 0\n",
      "-----------------------------------------------\n"
     ]
    }
   ],
   "source": [
    "for sf in komu_2016_political_folder['subfolders']:\n",
    "    print(sf['folder_path'])\n",
    "    print(sf['entity_folder_id'])\n",
    "    print('file_count: {file_count}'.format(**sf))\n",
    "    print('-----------------------------------------------')"
   ]
  },
  {
   "cell_type": "markdown",
   "metadata": {},
   "source": [
    "So now let's look in the `Political Files/2016/Federal`."
   ]
  },
  {
   "cell_type": "code",
   "execution_count": 33,
   "metadata": {},
   "outputs": [],
   "source": [
    "r = requests.get(\n",
    "    folder_endpoint.format(folderId=\"e5ecf909-3252-147d-962d-1773e7344aa0\"),\n",
    "    params=payload\n",
    ")"
   ]
  },
  {
   "cell_type": "code",
   "execution_count": 34,
   "metadata": {},
   "outputs": [],
   "source": [
    "komu_2016_federal_political_folder = r.json()['folder']"
   ]
  },
  {
   "cell_type": "markdown",
   "metadata": {},
   "source": [
    "Again, no files."
   ]
  },
  {
   "cell_type": "code",
   "execution_count": 35,
   "metadata": {},
   "outputs": [
    {
     "data": {
      "text/plain": [
       "0"
      ]
     },
     "execution_count": 35,
     "metadata": {},
     "output_type": "execute_result"
    }
   ],
   "source": [
    "len(komu_2016_federal_political_folder['files'])"
   ]
  },
  {
   "cell_type": "markdown",
   "metadata": {},
   "source": [
    "Just more sub-folders."
   ]
  },
  {
   "cell_type": "code",
   "execution_count": 36,
   "metadata": {},
   "outputs": [
    {
     "data": {
      "text/plain": [
       "3"
      ]
     },
     "execution_count": 36,
     "metadata": {},
     "output_type": "execute_result"
    }
   ],
   "source": [
    "len(komu_2016_federal_political_folder['subfolders'])"
   ]
  },
  {
   "cell_type": "code",
   "execution_count": 37,
   "metadata": {},
   "outputs": [
    {
     "name": "stdout",
     "output_type": "stream",
     "text": [
      "Political Files/2016/Federal/President\n",
      "119a0bad-c466-acd1-6965-2d07431a827f\n",
      "file_count: 17\n",
      "-----------------------------------------------\n",
      "Political Files/2016/Federal/US House\n",
      "57933127-b03c-bca2-5ed5-bfaefb339541\n",
      "file_count: 0\n",
      "-----------------------------------------------\n",
      "Political Files/2016/Federal/US Senate\n",
      "73eb960e-2665-5aa3-95c4-12333931eebd\n",
      "file_count: 31\n",
      "-----------------------------------------------\n"
     ]
    }
   ],
   "source": [
    "for sf in komu_2016_federal_political_folder['subfolders']:\n",
    "    print(sf['folder_path'])\n",
    "    print(sf['entity_folder_id'])\n",
    "    print('file_count: {file_count}'.format(**sf))\n",
    "    print('-----------------------------------------------')"
   ]
  },
  {
   "cell_type": "markdown",
   "metadata": {},
   "source": [
    "So let's go another level down to `Political Files/2016/Federal/President`."
   ]
  },
  {
   "cell_type": "code",
   "execution_count": 38,
   "metadata": {},
   "outputs": [],
   "source": [
    "r = requests.get(\n",
    "    folder_endpoint.format(folderId=\"119a0bad-c466-acd1-6965-2d07431a827f\"),\n",
    "    params=payload\n",
    ")"
   ]
  },
  {
   "cell_type": "code",
   "execution_count": 39,
   "metadata": {},
   "outputs": [],
   "source": [
    "komu_2016_presidential_folder = r.json()['folder']"
   ]
  },
  {
   "cell_type": "markdown",
   "metadata": {},
   "source": [
    "Again, no files."
   ]
  },
  {
   "cell_type": "code",
   "execution_count": 40,
   "metadata": {},
   "outputs": [
    {
     "data": {
      "text/plain": [
       "0"
      ]
     },
     "execution_count": 40,
     "metadata": {},
     "output_type": "execute_result"
    }
   ],
   "source": [
    "len(komu_2016_presidential_folder['files'])"
   ]
  },
  {
   "cell_type": "markdown",
   "metadata": {},
   "source": [
    "Just more subfolders."
   ]
  },
  {
   "cell_type": "code",
   "execution_count": 41,
   "metadata": {},
   "outputs": [
    {
     "data": {
      "text/plain": [
       "4"
      ]
     },
     "execution_count": 41,
     "metadata": {},
     "output_type": "execute_result"
    }
   ],
   "source": [
    "len(komu_2016_presidential_folder['subfolders'])"
   ]
  },
  {
   "cell_type": "code",
   "execution_count": 42,
   "metadata": {},
   "outputs": [
    {
     "name": "stdout",
     "output_type": "stream",
     "text": [
      "Political Files/2016/Federal/President/Bernie Sanders\n",
      "ee229891-bf04-09bd-6ff5-9239fc974441\n",
      "-----------------------------------------------\n",
      "Political Files/2016/Federal/President/DONALD TRUMP\n",
      "9dc7bceb-dd9a-d9b7-8269-c09d0811cda0\n",
      "-----------------------------------------------\n",
      "Political Files/2016/Federal/President/HILLARY FOR AMERICA\n",
      "148f8d5c-af0a-c02e-41a7-2664f7fa3e6e\n",
      "-----------------------------------------------\n",
      "Political Files/2016/Federal/President/TED CRUZ 2016\n",
      "08a1a421-2608-ed95-405e-b8ff310b61be\n",
      "-----------------------------------------------\n"
     ]
    }
   ],
   "source": [
    "for sf in komu_2016_presidential_folder['subfolders']:\n",
    "    print(sf['folder_path'])\n",
    "    print(sf['entity_folder_id'])\n",
    "    print('-----------------------------------------------')"
   ]
  },
  {
   "cell_type": "markdown",
   "metadata": {},
   "source": [
    "Let's see what's in the 2016 Donald Trump folder."
   ]
  },
  {
   "cell_type": "code",
   "execution_count": 43,
   "metadata": {},
   "outputs": [],
   "source": [
    "r = requests.get(\n",
    "    folder_endpoint.format(folderId=\"9dc7bceb-dd9a-d9b7-8269-c09d0811cda0\"),\n",
    "    params=payload\n",
    ")"
   ]
  },
  {
   "cell_type": "code",
   "execution_count": 44,
   "metadata": {},
   "outputs": [],
   "source": [
    "komu_2016_trump_folder = r.json()['folder']"
   ]
  },
  {
   "cell_type": "code",
   "execution_count": 45,
   "metadata": {},
   "outputs": [
    {
     "data": {
      "text/plain": [
       "3"
      ]
     },
     "execution_count": 45,
     "metadata": {},
     "output_type": "execute_result"
    }
   ],
   "source": [
    "len(komu_2016_trump_folder['files'])"
   ]
  },
  {
   "cell_type": "code",
   "execution_count": 46,
   "metadata": {},
   "outputs": [
    {
     "data": {
      "text/plain": [
       "0"
      ]
     },
     "execution_count": 46,
     "metadata": {},
     "output_type": "execute_result"
    }
   ],
   "source": [
    "len(komu_2016_trump_folder['subfolders'])"
   ]
  },
  {
   "cell_type": "markdown",
   "metadata": {},
   "source": [
    "Three files and no subfolders.\n",
    "\n",
    "We can download files using the OPIF File download endpoint. Here's the url format for this endpoint:"
   ]
  },
  {
   "cell_type": "code",
   "execution_count": 47,
   "metadata": {},
   "outputs": [],
   "source": [
    "download_url = api_url + 'manager/download/{folder_id}/{file_manager_id}.pdf'"
   ]
  },
  {
   "cell_type": "code",
   "execution_count": 48,
   "metadata": {},
   "outputs": [
    {
     "name": "stdout",
     "output_type": "stream",
     "text": [
      "-------------------------\n",
      "file_id: 3576c738-57bc-cabf-6671-4651a4a4e76d\n",
      "file_name: 38329--1.pdf\n",
      "https://publicfiles.fcc.gov/api/manager/download/9dc7bceb-dd9a-d9b7-8269-c09d0811cda0/8c68fcc4-4eed-5abf-813e-f87eb123740c.pdf\n",
      "-------------------------\n",
      "file_id: 2078cd14-0c72-bf68-6ab3-bcb2edd9aad3\n",
      "file_name: 38330--1.pdf\n",
      "https://publicfiles.fcc.gov/api/manager/download/9dc7bceb-dd9a-d9b7-8269-c09d0811cda0/e4f42749-f453-4122-0253-c0afd50c199b.pdf\n",
      "-------------------------\n",
      "file_id: c71cb9ce-7643-056d-5b5f-54fd7f2970c1\n",
      "file_name: NAB FORM.pdf\n",
      "https://publicfiles.fcc.gov/api/manager/download/9dc7bceb-dd9a-d9b7-8269-c09d0811cda0/cb412313-7757-b626-46bf-8041fc7811ae.pdf\n"
     ]
    }
   ],
   "source": [
    "for f in komu_2016_trump_folder['files']:\n",
    "    print('''-------------------------\n",
    "file_id: {file_id}\n",
    "file_name: {file_name}.{file_extension}'''.format(**f)\n",
    "    )\n",
    "    print(download_url.format(**f))"
   ]
  },
  {
   "cell_type": "markdown",
   "metadata": {},
   "source": [
    "The first two files are contracts between KOMU-TV and Strategic Media Services, on behalf of the adverstiser Donald Trump.\n",
    "\n",
    "The third file is a National Association of Broadcasters (NAB) Political Advertising Agreement Form (PB-18). A blank version of this form is available [here](https://gab.org/wp-content/uploads/2016/06/pb18-form-final-c1.pdf)."
   ]
  },
  {
   "cell_type": "markdown",
   "metadata": {},
   "source": [
    "## Getting all the service providers in Missouri"
   ]
  },
  {
   "cell_type": "markdown",
   "metadata": {},
   "source": [
    "We can get all U.S. service providers in by type from the `facility/getall` endpoint of the OPIF Service Data API"
   ]
  },
  {
   "cell_type": "code",
   "execution_count": 49,
   "metadata": {},
   "outputs": [],
   "source": [
    "facility_getall_endpoint = api_url + 'service/{serviceType}/facility/getall.json'"
   ]
  },
  {
   "cell_type": "code",
   "execution_count": 50,
   "metadata": {},
   "outputs": [],
   "source": [
    "r = requests.get(facility_getall_endpoint.format(serviceType='tv'))"
   ]
  },
  {
   "cell_type": "code",
   "execution_count": 51,
   "metadata": {},
   "outputs": [
    {
     "data": {
      "text/plain": [
       "'2201 Facilities Returned'"
      ]
     },
     "execution_count": 51,
     "metadata": {},
     "output_type": "execute_result"
    }
   ],
   "source": [
    "r.json()['message']"
   ]
  },
  {
   "cell_type": "code",
   "execution_count": 52,
   "metadata": {},
   "outputs": [
    {
     "data": {
      "text/plain": [
       "{'id': '-12', 'callSign': 'TV123', 'frequency': '1000.0', 'activeInd': 'N'}"
      ]
     },
     "execution_count": 52,
     "metadata": {},
     "output_type": "execute_result"
    }
   ],
   "source": [
    "r.json()['results']['facilityList'][0]"
   ]
  },
  {
   "cell_type": "markdown",
   "metadata": {},
   "source": [
    "Sadly, the response doesn't include any location info for each station."
   ]
  },
  {
   "cell_type": "markdown",
   "metadata": {},
   "source": [
    "## Glossary\n",
    "\n",
    "**OPIF:** Office of Public Inspection Files\n",
    "\n",
    "**SDARS Data:** Satellite Digital Audio Radio Service\n",
    "\n",
    "**DBS Data:** Direct Broadcast Satellite\n",
    "\n",
    "**frn:** FCC Registration Number"
   ]
  },
  {
   "cell_type": "markdown",
   "metadata": {},
   "source": [
    "## Questions\n",
    "\n",
    "1. Does every TV station, radio station, or other service provide follow the same directory structure?\n",
    "2. Are there other important types of files to collect (besides the contract agreements and the NAB forms)?\n",
    "3. How similar are the contract agreements upload from other stations?"
   ]
  },
  {
   "cell_type": "code",
   "execution_count": 1,
   "metadata": {},
   "outputs": [
    {
     "data": {
      "text/plain": [
       "4"
      ]
     },
     "execution_count": 1,
     "metadata": {},
     "output_type": "execute_result"
    }
   ],
   "source": [
    "2 + 2"
   ]
  },
  {
   "cell_type": "code",
   "execution_count": 2,
   "metadata": {},
   "outputs": [],
   "source": [
    "this_number = 2 + 2"
   ]
  },
  {
   "cell_type": "code",
   "execution_count": 3,
   "metadata": {},
   "outputs": [
    {
     "name": "stdout",
     "output_type": "stream",
     "text": [
      "Hi\n"
     ]
    }
   ],
   "source": [
    "print('Hi')"
   ]
  },
  {
   "cell_type": "code",
   "execution_count": null,
   "metadata": {},
   "outputs": [],
   "source": [
    "print 'Hi'"
   ]
  }
 ],
 "metadata": {
  "kernelspec": {
   "display_name": "Python 3",
   "language": "python",
   "name": "python3"
  },
  "language_info": {
   "codemirror_mode": {
    "name": "ipython",
    "version": 3
   },
   "file_extension": ".py",
   "mimetype": "text/x-python",
   "name": "python",
   "nbconvert_exporter": "python",
   "pygments_lexer": "ipython3",
   "version": "3.7.4"
  }
 },
 "nbformat": 4,
 "nbformat_minor": 2
}
